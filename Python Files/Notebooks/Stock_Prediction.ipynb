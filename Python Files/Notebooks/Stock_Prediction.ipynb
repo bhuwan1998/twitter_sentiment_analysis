{
 "cells": [
  {
   "cell_type": "markdown",
   "id": "2f14ef48-b4da-4e9c-9db3-b6ee9ab0dc87",
   "metadata": {
    "tags": []
   },
   "source": [
    "## LSTM On the Merged Data - Final Attempt at finding patterns "
   ]
  },
  {
   "cell_type": "code",
   "execution_count": 1,
   "id": "7162bd36-8563-42d9-8654-a85abf4039eb",
   "metadata": {
    "tags": []
   },
   "outputs": [],
   "source": [
    "# Imports \n",
    "import pandas as pd  \n",
    "import numpy as np\n",
    "from sklearn.model_selection import train_test_split\n",
    "from tensorflow.keras.models import Sequential \n",
    "from tensorflow.keras.layers import LSTM, Dense, Dropout\n",
    "from tensorflow.keras.callbacks import EarlyStopping, ModelCheckpoint\n",
    "%matplotlib inline\n",
    "import matplotlib.pyplot as plt"
   ]
  },
  {
   "cell_type": "code",
   "execution_count": 2,
   "id": "190f0d86-5cfd-4f0b-b757-22cf954db75b",
   "metadata": {},
   "outputs": [],
   "source": [
    "df = pd.read_csv(\"Final_Merged_Data.csv\", index_col=0)"
   ]
  },
  {
   "cell_type": "code",
   "execution_count": 3,
   "id": "47fadcb3-0e29-409e-b1d4-fd964805cd9d",
   "metadata": {
    "tags": []
   },
   "outputs": [],
   "source": [
    "features = df[[\"Average Sentiment\", \"Normalised Average Price\"]]"
   ]
  },
  {
   "cell_type": "code",
   "execution_count": 4,
   "id": "e063dd17-6b4e-4739-b7d6-59749517caca",
   "metadata": {
    "tags": []
   },
   "outputs": [],
   "source": [
    "# Create Sequences \n",
    "def create_sequences(data, sequence_length):\n",
    "    X, y = [], [] \n",
    "    for i in range(len(data) - sequence_length): \n",
    "        X.append(data[i:i+sequence_length])\n",
    "        y.append(data[i+sequence_length, 1]) # Normalised Average \n",
    "    return np.array(X), np.array(y) \n",
    "\n",
    "sequence_length = 10 \n",
    "\n",
    "X,y = create_sequences(features.values, sequence_length) "
   ]
  },
  {
   "cell_type": "code",
   "execution_count": 5,
   "id": "a472e435-484e-4a1b-b80a-79989dc1260e",
   "metadata": {
    "tags": []
   },
   "outputs": [
    {
     "name": "stderr",
     "output_type": "stream",
     "text": [
      "2023-11-24 18:35:49.449387: I metal_plugin/src/device/metal_device.cc:1154] Metal device set to: Apple M3 Pro\n",
      "2023-11-24 18:35:49.449438: I metal_plugin/src/device/metal_device.cc:296] systemMemory: 36.00 GB\n",
      "2023-11-24 18:35:49.449448: I metal_plugin/src/device/metal_device.cc:313] maxCacheSize: 13.50 GB\n",
      "2023-11-24 18:35:49.449508: I tensorflow/core/common_runtime/pluggable_device/pluggable_device_factory.cc:306] Could not identify NUMA node of platform GPU ID 0, defaulting to 0. Your kernel may not have been built with NUMA support.\n",
      "2023-11-24 18:35:49.449538: I tensorflow/core/common_runtime/pluggable_device/pluggable_device_factory.cc:272] Created TensorFlow device (/job:localhost/replica:0/task:0/device:GPU:0 with 0 MB memory) -> physical PluggableDevice (device: 0, name: METAL, pci bus id: <undefined>)\n"
     ]
    }
   ],
   "source": [
    "# Create Sequences \n",
    "def create_sequences(data, sequence_length):\n",
    "    X, y = [], [] \n",
    "    for i in range(len(data) - sequence_length): \n",
    "        X.append(data[i:i+sequence_length])\n",
    "        y.append(data[i+sequence_length, 1]) # Normalised Average \n",
    "    return np.array(X), np.array(y) \n",
    "\n",
    "sequence_length = 10 \n",
    "\n",
    "X,y = create_sequences(features.values, sequence_length) \n",
    "\n",
    "# Split Data \n",
    "X_train, X_test, y_train, y_test = train_test_split(X, y, test_size=0.2, shuffle=True)\n",
    "X_train = X_train.astype('float32')  # Convert to float32\n",
    "\n",
    "# Build LSTM Model \n",
    "model = Sequential() \n",
    "model.add(LSTM(50, input_shape=(sequence_length, 2), return_sequences=True))\n",
    "model.add(LSTM(50, return_sequences=False))\n",
    "model.add(Dense(1))\n",
    "\n",
    "# Hyperparameter Tuning\n",
    "model.compile(optimizer=\"adam\", loss=\"mean_squared_error\")\n",
    "\n",
    "# Model Checkpoint \n",
    "checkpoint = ModelCheckpoint(\"best_model.h5\", save_best_only=True)\n",
    "\n",
    "# Early Stopping \n",
    "early_stopping = EarlyStopping(patience=10, restore_best_weights=True) "
   ]
  },
  {
   "cell_type": "code",
   "execution_count": 6,
   "id": "3837c89c-b367-4b30-bf48-ec71d931033f",
   "metadata": {
    "tags": []
   },
   "outputs": [
    {
     "name": "stdout",
     "output_type": "stream",
     "text": [
      "Epoch 1/50\n"
     ]
    },
    {
     "name": "stderr",
     "output_type": "stream",
     "text": [
      "2023-11-24 18:35:50.261768: I tensorflow/core/grappler/optimizers/custom_graph_optimizer_registry.cc:117] Plugin optimizer for device_type GPU is enabled.\n"
     ]
    },
    {
     "name": "stdout",
     "output_type": "stream",
     "text": [
      "9/9 [==============================] - 1s 54ms/step - loss: 0.1312 - val_loss: 0.0581\n",
      "Epoch 2/50\n",
      "9/9 [==============================] - 0s 14ms/step - loss: 0.0539 - val_loss: 0.0198\n",
      "Epoch 3/50\n",
      "1/9 [==>...........................] - ETA: 0s - loss: 0.0290"
     ]
    },
    {
     "name": "stderr",
     "output_type": "stream",
     "text": [
      "/opt/homebrew/Caskroom/miniconda/base/envs/tensorflow/lib/python3.10/site-packages/keras/src/engine/training.py:3103: UserWarning: You are saving your model as an HDF5 file via `model.save()`. This file format is considered legacy. We recommend using instead the native Keras format, e.g. `model.save('my_model.keras')`.\n",
      "  saving_api.save_model(\n"
     ]
    },
    {
     "name": "stdout",
     "output_type": "stream",
     "text": [
      "9/9 [==============================] - 0s 14ms/step - loss: 0.0374 - val_loss: 0.0167\n",
      "Epoch 4/50\n",
      "9/9 [==============================] - 0s 12ms/step - loss: 0.0265 - val_loss: 0.0228\n",
      "Epoch 5/50\n",
      "9/9 [==============================] - 0s 13ms/step - loss: 0.0229 - val_loss: 0.0092\n",
      "Epoch 6/50\n",
      "9/9 [==============================] - 0s 13ms/step - loss: 0.0173 - val_loss: 0.0086\n",
      "Epoch 7/50\n",
      "9/9 [==============================] - 0s 13ms/step - loss: 0.0160 - val_loss: 0.0078\n",
      "Epoch 8/50\n",
      "9/9 [==============================] - 0s 11ms/step - loss: 0.0147 - val_loss: 0.0085\n",
      "Epoch 9/50\n",
      "9/9 [==============================] - 0s 11ms/step - loss: 0.0151 - val_loss: 0.0097\n",
      "Epoch 10/50\n",
      "9/9 [==============================] - 0s 11ms/step - loss: 0.0148 - val_loss: 0.0079\n",
      "Epoch 11/50\n",
      "9/9 [==============================] - 0s 11ms/step - loss: 0.0136 - val_loss: 0.0080\n",
      "Epoch 12/50\n",
      "9/9 [==============================] - 0s 13ms/step - loss: 0.0132 - val_loss: 0.0071\n",
      "Epoch 13/50\n",
      "9/9 [==============================] - 0s 13ms/step - loss: 0.0132 - val_loss: 0.0070\n",
      "Epoch 14/50\n",
      "9/9 [==============================] - 0s 11ms/step - loss: 0.0129 - val_loss: 0.0071\n",
      "Epoch 15/50\n",
      "9/9 [==============================] - 0s 13ms/step - loss: 0.0127 - val_loss: 0.0062\n",
      "Epoch 16/50\n",
      "9/9 [==============================] - 0s 12ms/step - loss: 0.0141 - val_loss: 0.0091\n",
      "Epoch 17/50\n",
      "9/9 [==============================] - 0s 13ms/step - loss: 0.0132 - val_loss: 0.0062\n",
      "Epoch 18/50\n",
      "9/9 [==============================] - 0s 11ms/step - loss: 0.0127 - val_loss: 0.0081\n",
      "Epoch 19/50\n",
      "9/9 [==============================] - 0s 13ms/step - loss: 0.0124 - val_loss: 0.0059\n",
      "Epoch 20/50\n",
      "9/9 [==============================] - 0s 11ms/step - loss: 0.0122 - val_loss: 0.0080\n",
      "Epoch 21/50\n",
      "9/9 [==============================] - 0s 13ms/step - loss: 0.0115 - val_loss: 0.0055\n",
      "Epoch 22/50\n",
      "9/9 [==============================] - 0s 11ms/step - loss: 0.0107 - val_loss: 0.0066\n",
      "Epoch 23/50\n",
      "9/9 [==============================] - 0s 11ms/step - loss: 0.0110 - val_loss: 0.0055\n",
      "Epoch 24/50\n",
      "9/9 [==============================] - 0s 13ms/step - loss: 0.0099 - val_loss: 0.0052\n",
      "Epoch 25/50\n",
      "9/9 [==============================] - 0s 14ms/step - loss: 0.0094 - val_loss: 0.0051\n",
      "Epoch 26/50\n",
      "9/9 [==============================] - 0s 13ms/step - loss: 0.0097 - val_loss: 0.0048\n",
      "Epoch 27/50\n",
      "9/9 [==============================] - 0s 13ms/step - loss: 0.0093 - val_loss: 0.0046\n",
      "Epoch 28/50\n",
      "9/9 [==============================] - 0s 11ms/step - loss: 0.0093 - val_loss: 0.0055\n",
      "Epoch 29/50\n",
      "9/9 [==============================] - 0s 13ms/step - loss: 0.0091 - val_loss: 0.0044\n",
      "Epoch 30/50\n",
      "9/9 [==============================] - 0s 13ms/step - loss: 0.0082 - val_loss: 0.0039\n",
      "Epoch 31/50\n",
      "9/9 [==============================] - 0s 11ms/step - loss: 0.0083 - val_loss: 0.0043\n",
      "Epoch 32/50\n",
      "9/9 [==============================] - 0s 12ms/step - loss: 0.0080 - val_loss: 0.0052\n",
      "Epoch 33/50\n",
      "9/9 [==============================] - 0s 11ms/step - loss: 0.0097 - val_loss: 0.0041\n",
      "Epoch 34/50\n",
      "9/9 [==============================] - 0s 11ms/step - loss: 0.0074 - val_loss: 0.0040\n",
      "Epoch 35/50\n",
      "9/9 [==============================] - 0s 13ms/step - loss: 0.0074 - val_loss: 0.0036\n",
      "Epoch 36/50\n",
      "9/9 [==============================] - 0s 11ms/step - loss: 0.0075 - val_loss: 0.0056\n",
      "Epoch 37/50\n",
      "9/9 [==============================] - 0s 11ms/step - loss: 0.0092 - val_loss: 0.0043\n",
      "Epoch 38/50\n",
      "9/9 [==============================] - 0s 13ms/step - loss: 0.0070 - val_loss: 0.0034\n",
      "Epoch 39/50\n",
      "9/9 [==============================] - 0s 15ms/step - loss: 0.0066 - val_loss: 0.0033\n",
      "Epoch 40/50\n",
      "9/9 [==============================] - 0s 13ms/step - loss: 0.0064 - val_loss: 0.0032\n",
      "Epoch 41/50\n",
      "9/9 [==============================] - 0s 11ms/step - loss: 0.0067 - val_loss: 0.0039\n",
      "Epoch 42/50\n",
      "9/9 [==============================] - 0s 11ms/step - loss: 0.0065 - val_loss: 0.0058\n",
      "Epoch 43/50\n",
      "9/9 [==============================] - 0s 11ms/step - loss: 0.0079 - val_loss: 0.0035\n",
      "Epoch 44/50\n",
      "9/9 [==============================] - 0s 11ms/step - loss: 0.0078 - val_loss: 0.0038\n",
      "Epoch 45/50\n",
      "9/9 [==============================] - 0s 11ms/step - loss: 0.0064 - val_loss: 0.0032\n",
      "Epoch 46/50\n",
      "9/9 [==============================] - 0s 11ms/step - loss: 0.0064 - val_loss: 0.0039\n",
      "Epoch 47/50\n",
      "9/9 [==============================] - 0s 11ms/step - loss: 0.0067 - val_loss: 0.0065\n",
      "Epoch 48/50\n",
      "9/9 [==============================] - 0s 11ms/step - loss: 0.0078 - val_loss: 0.0043\n",
      "Epoch 49/50\n",
      "9/9 [==============================] - 0s 11ms/step - loss: 0.0060 - val_loss: 0.0032\n",
      "Epoch 50/50\n",
      "9/9 [==============================] - 0s 11ms/step - loss: 0.0061 - val_loss: 0.0032\n"
     ]
    }
   ],
   "source": [
    "# Train The Model \n",
    "history = model.fit(X_train, y_train, batch_size=16, epochs=50, validation_data=(X_test, y_test), callbacks=[early_stopping, checkpoint])"
   ]
  },
  {
   "cell_type": "code",
   "execution_count": 7,
   "id": "7bf9db7b-13f6-4cf9-9f67-37bc4c0c1d4b",
   "metadata": {
    "tags": []
   },
   "outputs": [
    {
     "name": "stdout",
     "output_type": "stream",
     "text": [
      "2/2 [==============================] - 0s 14ms/step\n",
      "Mean Squared Error: 0.06677620684881544\n"
     ]
    }
   ],
   "source": [
    "# Evaluate the Model\n",
    "predictions = model.predict(X_test)\n",
    "mse = np.mean((predictions - y_test)**2)\n",
    "print(f\"Mean Squared Error: {mse}\")"
   ]
  },
  {
   "cell_type": "code",
   "execution_count": 8,
   "id": "67b67f58-2eae-45cc-a59f-c800df5ad468",
   "metadata": {
    "tags": []
   },
   "outputs": [
    {
     "name": "stdout",
     "output_type": "stream",
     "text": [
      "1/1 [==============================] - 0s 9ms/step\n"
     ]
    },
    {
     "data": {
      "image/png": "[encoded data removed]",
      "text/plain": [
       "<Figure size 640x480 with 1 Axes>"
      ]
     },
     "metadata": {},
     "output_type": "display_data"
    }
   ],
   "source": [
    "# Load the best model (optional) \n",
    "model.load_weights(\"best_model.h5\")\n",
    "\n",
    "# Make Predictions\n",
    "last_sequence = X[-1]\n",
    "prediction = model.predict(np.array([last_sequence]))[0][0]\n",
    "\n",
    "# Visualize Results\n",
    "actual_prices = df['Normalised Average Price'].values\n",
    "plt.plot(actual_prices[-len(predictions):], label='Actual Normalised Prices')\n",
    "plt.plot(predictions, label='Predicted Normalised Prices')\n",
    "plt.legend()\n",
    "plt.show()"
   ]
  },
  {
   "cell_type": "markdown",
   "id": "d32ffb58-49c6-448c-8641-ed023b1e5089",
   "metadata": {},
   "source": [
    "# K-fold Cross Validation "
   ]
  },
  {
   "cell_type": "code",
   "execution_count": 9,
   "id": "a2f85b9a-3459-4d35-a24d-700c2cc31343",
   "metadata": {},
   "outputs": [],
   "source": [
    "from sklearn.model_selection import TimeSeriesSplit"
   ]
  },
  {
   "cell_type": "code",
   "execution_count": 10,
   "id": "137516d0-e547-428c-bf87-a1e63e9222bc",
   "metadata": {
    "tags": []
   },
   "outputs": [
    {
     "name": "stdout",
     "output_type": "stream",
     "text": [
      "1/1 [==============================] - 0s 230ms/step\n",
      "1/1 [==============================] - 0s 219ms/step\n",
      "1/1 [==============================] - 0s 219ms/step\n",
      "WARNING:tensorflow:5 out of the last 7 calls to <function Model.make_predict_function.<locals>.predict_function at 0x2d9b4d750> triggered tf.function retracing. Tracing is expensive and the excessive number of tracings could be due to (1) creating @tf.function repeatedly in a loop, (2) passing tensors with different shapes, (3) passing Python objects instead of tensors. For (1), please define your @tf.function outside of the loop. For (2), @tf.function has reduce_retracing=True option that can avoid unnecessary retracing. For (3), please refer to https://www.tensorflow.org/guide/function#controlling_retracing and https://www.tensorflow.org/api_docs/python/tf/function for  more details.\n",
      "1/1 [==============================] - 0s 221ms/step\n",
      "WARNING:tensorflow:6 out of the last 8 calls to <function Model.make_predict_function.<locals>.predict_function at 0x2e0b8b130> triggered tf.function retracing. Tracing is expensive and the excessive number of tracings could be due to (1) creating @tf.function repeatedly in a loop, (2) passing tensors with different shapes, (3) passing Python objects instead of tensors. For (1), please define your @tf.function outside of the loop. For (2), @tf.function has reduce_retracing=True option that can avoid unnecessary retracing. For (3), please refer to https://www.tensorflow.org/guide/function#controlling_retracing and https://www.tensorflow.org/api_docs/python/tf/function for  more details.\n",
      "1/1 [==============================] - 0s 226ms/step\n",
      "Average Mean Squared Error: 0.030349255145107383\n"
     ]
    },
    {
     "data": {
      "image/png": "[encoded data removed]",
      "text/plain": [
       "<Figure size 640x480 with 1 Axes>"
      ]
     },
     "metadata": {},
     "output_type": "display_data"
    }
   ],
   "source": [
    "# Split the data into k folds using TimeSeriesSplit \n",
    "k = 5 \n",
    "tcsv = TimeSeriesSplit(n_splits=k) \n",
    "\n",
    "# Init an array to store evaluation results \n",
    "mse_scores = [] \n",
    "\n",
    "# Perform k-fold cross validation \n",
    "for train_index, test_index in tcsv.split(X,y): \n",
    "    X_train, X_test = X[train_index], X[test_index] \n",
    "    y_train, y_test = y[train_index], y[test_index] \n",
    "    \n",
    "    # create and compile the model (as shown in previous code)\n",
    "    model = Sequential()\n",
    "    model.add(LSTM(50, input_shape=(sequence_length, 2), return_sequences=True))\n",
    "    model.add(LSTM(50, return_sequences=False))\n",
    "    model.add(Dense(1))\n",
    "    model.compile(optimizer='adam', loss='mean_squared_error')\n",
    "    \n",
    "    #Early Stopping \n",
    "    # early_stopping = EarlyStopping(monitor='val_loss', patience=5, restore_best_weights=True)\n",
    "    \n",
    "    \n",
    "    # Train the model\n",
    "    history = model.fit(X_train, y_train, batch_size=16, epochs=200, verbose=0)\n",
    "    \n",
    "    # Evaluate the model on the test set\n",
    "    predictions = model.predict(X_test)\n",
    "    mse = np.mean((predictions - y_test)**2)\n",
    "    mse_scores.append(mse)\n",
    "    \n",
    "\n",
    "# Average MSE over all K folds \n",
    "average_mse = np.mean(mse_scores) \n",
    "print(f\"Average Mean Squared Error: {average_mse}\")\n",
    "\n",
    "# Visualise Results \n",
    "actual_prices = df[\"Normalised Average Price\"].values \n",
    "plt.plot(actual_prices[-len(predictions):], label=\"Actual Normalised Prices\") \n",
    "plt.plot(predictions, label=\"Predicted Normalised Prices\") \n",
    "plt.legend() \n",
    "plt.savefig(\"actualvspredictedNormalised.png\")\n",
    "plt.show()"
   ]
  },
  {
   "cell_type": "code",
   "execution_count": 11,
   "id": "5c7db806-c7cd-44be-a158-ca01284e3d1c",
   "metadata": {},
   "outputs": [],
   "source": [
    "actual_p = actual_prices[-len(predictions):]\n",
    "export_dataset = pd.DataFrame({'Actual': actual_p, 'Predicted' : predictions.reshape(27,)})"
   ]
  },
  {
   "cell_type": "code",
   "execution_count": 12,
   "id": "b1ddd4fd-e2ac-456e-929f-51e180462864",
   "metadata": {},
   "outputs": [],
   "source": [
    "import plotly_express as px "
   ]
  },
  {
   "cell_type": "code",
   "execution_count": 14,
   "id": "e3e88156-9fbd-465a-9358-20601742bb87",
   "metadata": {},
   "outputs": [
    {
     "data": {
      "application/vnd.plotly.v1+json": {
       "config": {
        "plotlyServerURL": "https://plot.ly"
       },
       "data": [
        {
         "hovertemplate": "variable=Actual<br>index=%{x}<br>value=%{y}<extra></extra>",
         "legendgroup": "Actual",
         "line": {
          "color": "#636efa",
          "dash": "solid"
         },
         "marker": {
          "symbol": "circle"
         },
         "mode": "lines",
         "name": "Actual",
         "orientation": "v",
         "showlegend": true,
         "type": "scatter",
         "x": [
          0,
          1,
          2,
          3,
          4,
          5,
          6,
          7,
          8,
          9,
          10,
          11,
          12,
          13,
          14,
          15,
          16,
          17,
          18,
          19,
          20,
          21,
          22,
          23,
          24,
          25,
          26
         ],
         "xaxis": "x",
         "y": [
          0.2184177848124314,
          0.2240938970051336,
          0.229526546265914,
          0.2336985326127759,
          0.1903890769428584,
          0.2368034684851845,
          0.2587683316008676,
          0.251873576964191,
          0.2536988997061008,
          0.2605062451263723,
          0.2697580903805244,
          0.2357585510045421,
          0.2120672265035131,
          0.1875671348766288,
          0.1346420991411676,
          0.1011421386329893,
          0.0642452370861499,
          0.0885888942358245,
          0.1099322761631366,
          0.1043948686211067,
          0.122717668035749,
          0.0645587504065119,
          0.0443591961320078,
          0.0028642456666634,
          0,
          0.0532866324234984,
          0.0618574072842835
         ],
         "yaxis": "y"
        },
        {
         "hovertemplate": "variable=Predicted<br>index=%{x}<br>value=%{y}<extra></extra>",
         "legendgroup": "Predicted",
         "line": {
          "color": "#EF553B",
          "dash": "solid"
         },
         "marker": {
          "symbol": "circle"
         },
         "mode": "lines",
         "name": "Predicted",
         "orientation": "v",
         "showlegend": true,
         "type": "scatter",
         "x": [
          0,
          1,
          2,
          3,
          4,
          5,
          6,
          7,
          8,
          9,
          10,
          11,
          12,
          13,
          14,
          15,
          16,
          17,
          18,
          19,
          20,
          21,
          22,
          23,
          24,
          25,
          26
         ],
         "xaxis": "x",
         "y": [
          0.21606668829917908,
          0.22693638503551483,
          0.23962323367595673,
          0.2527729868888855,
          0.255939781665802,
          0.2208823561668396,
          0.2364249974489212,
          0.259792685508728,
          0.260791152715683,
          0.25480082631111145,
          0.263641357421875,
          0.26911240816116333,
          0.24390222132205963,
          0.211069256067276,
          0.19122067093849182,
          0.1463935226202011,
          0.10991466045379639,
          0.07956676930189133,
          0.07441772520542145,
          0.09138641506433487,
          0.09826947748661041,
          0.12186635285615921,
          0.10610836744308472,
          0.07490132004022598,
          0.03206409513950348,
          0.014196805655956268,
          0.04249364510178566
         ],
         "yaxis": "y"
        }
       ],
       "layout": {
        "legend": {
         "title": {
          "text": "variable"
         },
         "tracegroupgap": 0
        },
        "margin": {
         "t": 60
        },
        "template": {
         "data": {
          "bar": [
           {
            "error_x": {
             "color": "#2a3f5f"
            },
            "error_y": {
             "color": "#2a3f5f"
            },
            "marker": {
             "line": {
              "color": "#E5ECF6",
              "width": 0.5
             },
             "pattern": {
              "fillmode": "overlay",
              "size": 10,
              "solidity": 0.2
             }
            },
            "type": "bar"
           }
          ],
          "barpolar": [
           {
            "marker": {
             "line": {
              "color": "#E5ECF6",
              "width": 0.5
             },
             "pattern": {
              "fillmode": "overlay",
              "size": 10,
              "solidity": 0.2
             }
            },
            "type": "barpolar"
           }
          ],
          "carpet": [
           {
            "aaxis": {
             "endlinecolor": "#2a3f5f",
             "gridcolor": "white",
             "linecolor": "white",
             "minorgridcolor": "white",
             "startlinecolor": "#2a3f5f"
            },
            "baxis": {
             "endlinecolor": "#2a3f5f",
             "gridcolor": "white",
             "linecolor": "white",
             "minorgridcolor": "white",
             "startlinecolor": "#2a3f5f"
            },
            "type": "carpet"
           }
          ],
          "choropleth": [
           {
            "colorbar": {
             "outlinewidth": 0,
             "ticks": ""
            },
            "type": "choropleth"
           }
          ],
          "contour": [
           {
            "colorbar": {
             "outlinewidth": 0,
             "ticks": ""
            },
            "colorscale": [
             [
              0,
              "#0d0887"
             ],
             [
              0.1111111111111111,
              "#46039f"
             ],
             [
              0.2222222222222222,
              "#7201a8"
             ],
             [
              0.3333333333333333,
              "#9c179e"
             ],
             [
              0.4444444444444444,
              "#bd3786"
             ],
             [
              0.5555555555555556,
              "#d8576b"
             ],
             [
              0.6666666666666666,
              "#ed7953"
             ],
             [
              0.7777777777777778,
              "#fb9f3a"
             ],
             [
              0.8888888888888888,
              "#fdca26"
             ],
             [
              1,
              "#f0f921"
             ]
            ],
            "type": "contour"
           }
          ],
          "contourcarpet": [
           {
            "colorbar": {
             "outlinewidth": 0,
             "ticks": ""
            },
            "type": "contourcarpet"
           }
          ],
          "heatmap": [
           {
            "colorbar": {
             "outlinewidth": 0,
             "ticks": ""
            },
            "colorscale": [
             [
              0,
              "#0d0887"
             ],
             [
              0.1111111111111111,
              "#46039f"
             ],
             [
              0.2222222222222222,
              "#7201a8"
             ],
             [
              0.3333333333333333,
              "#9c179e"
             ],
             [
              0.4444444444444444,
              "#bd3786"
             ],
             [
              0.5555555555555556,
              "#d8576b"
             ],
             [
              0.6666666666666666,
              "#ed7953"
             ],
             [
              0.7777777777777778,
              "#fb9f3a"
             ],
             [
              0.8888888888888888,
              "#fdca26"
             ],
             [
              1,
              "#f0f921"
             ]
            ],
            "type": "heatmap"
           }
          ],
          "heatmapgl": [
           {
            "colorbar": {
             "outlinewidth": 0,
             "ticks": ""
            },
            "colorscale": [
             [
              0,
              "#0d0887"
             ],
             [
              0.1111111111111111,
              "#46039f"
             ],
             [
              0.2222222222222222,
              "#7201a8"
             ],
             [
              0.3333333333333333,
              "#9c179e"
             ],
             [
              0.4444444444444444,
              "#bd3786"
             ],
             [
              0.5555555555555556,
              "#d8576b"
             ],
             [
              0.6666666666666666,
              "#ed7953"
             ],
             [
              0.7777777777777778,
              "#fb9f3a"
             ],
             [
              0.8888888888888888,
              "#fdca26"
             ],
             [
              1,
              "#f0f921"
             ]
            ],
            "type": "heatmapgl"
           }
          ],
          "histogram": [
           {
            "marker": {
             "pattern": {
              "fillmode": "overlay",
              "size": 10,
              "solidity": 0.2
             }
            },
            "type": "histogram"
           }
          ],
          "histogram2d": [
           {
            "colorbar": {
             "outlinewidth": 0,
             "ticks": ""
            },
            "colorscale": [
             [
              0,
              "#0d0887"
             ],
             [
              0.1111111111111111,
              "#46039f"
             ],
             [
              0.2222222222222222,
              "#7201a8"
             ],
             [
              0.3333333333333333,
              "#9c179e"
             ],
             [
              0.4444444444444444,
              "#bd3786"
             ],
             [
              0.5555555555555556,
              "#d8576b"
             ],
             [
              0.6666666666666666,
              "#ed7953"
             ],
             [
              0.7777777777777778,
              "#fb9f3a"
             ],
             [
              0.8888888888888888,
              "#fdca26"
             ],
             [
              1,
              "#f0f921"
             ]
            ],
            "type": "histogram2d"
           }
          ],
          "histogram2dcontour": [
           {
            "colorbar": {
             "outlinewidth": 0,
             "ticks": ""
            },
            "colorscale": [
             [
              0,
              "#0d0887"
             ],
             [
              0.1111111111111111,
              "#46039f"
             ],
             [
              0.2222222222222222,
              "#7201a8"
             ],
             [
              0.3333333333333333,
              "#9c179e"
             ],
             [
              0.4444444444444444,
              "#bd3786"
             ],
             [
              0.5555555555555556,
              "#d8576b"
             ],
             [
              0.6666666666666666,
              "#ed7953"
             ],
             [
              0.7777777777777778,
              "#fb9f3a"
             ],
             [
              0.8888888888888888,
              "#fdca26"
             ],
             [
              1,
              "#f0f921"
             ]
            ],
            "type": "histogram2dcontour"
           }
          ],
          "mesh3d": [
           {
            "colorbar": {
             "outlinewidth": 0,
             "ticks": ""
            },
            "type": "mesh3d"
           }
          ],
          "parcoords": [
           {
            "line": {
             "colorbar": {
              "outlinewidth": 0,
              "ticks": ""
             }
            },
            "type": "parcoords"
           }
          ],
          "pie": [
           {
            "automargin": true,
            "type": "pie"
           }
          ],
          "scatter": [
           {
            "fillpattern": {
             "fillmode": "overlay",
             "size": 10,
             "solidity": 0.2
            },
            "type": "scatter"
           }
          ],
          "scatter3d": [
           {
            "line": {
             "colorbar": {
              "outlinewidth": 0,
              "ticks": ""
             }
            },
            "marker": {
             "colorbar": {
              "outlinewidth": 0,
              "ticks": ""
             }
            },
            "type": "scatter3d"
           }
          ],
          "scattercarpet": [
           {
            "marker": {
             "colorbar": {
              "outlinewidth": 0,
              "ticks": ""
             }
            },
            "type": "scattercarpet"
           }
          ],
          "scattergeo": [
           {
            "marker": {
             "colorbar": {
              "outlinewidth": 0,
              "ticks": ""
             }
            },
            "type": "scattergeo"
           }
          ],
          "scattergl": [
           {
            "marker": {
             "colorbar": {
              "outlinewidth": 0,
              "ticks": ""
             }
            },
            "type": "scattergl"
           }
          ],
          "scattermapbox": [
           {
            "marker": {
             "colorbar": {
              "outlinewidth": 0,
              "ticks": ""
             }
            },
            "type": "scattermapbox"
           }
          ],
          "scatterpolar": [
           {
            "marker": {
             "colorbar": {
              "outlinewidth": 0,
              "ticks": ""
             }
            },
            "type": "scatterpolar"
           }
          ],
          "scatterpolargl": [
           {
            "marker": {
             "colorbar": {
              "outlinewidth": 0,
              "ticks": ""
             }
            },
            "type": "scatterpolargl"
           }
          ],
          "scatterternary": [
           {
            "marker": {
             "colorbar": {
              "outlinewidth": 0,
              "ticks": ""
             }
            },
            "type": "scatterternary"
           }
          ],
          "surface": [
           {
            "colorbar": {
             "outlinewidth": 0,
             "ticks": ""
            },
            "colorscale": [
             [
              0,
              "#0d0887"
             ],
             [
              0.1111111111111111,
              "#46039f"
             ],
             [
              0.2222222222222222,
              "#7201a8"
             ],
             [
              0.3333333333333333,
              "#9c179e"
             ],
             [
              0.4444444444444444,
              "#bd3786"
             ],
             [
              0.5555555555555556,
              "#d8576b"
             ],
             [
              0.6666666666666666,
              "#ed7953"
             ],
             [
              0.7777777777777778,
              "#fb9f3a"
             ],
             [
              0.8888888888888888,
              "#fdca26"
             ],
             [
              1,
              "#f0f921"
             ]
            ],
            "type": "surface"
           }
          ],
          "table": [
           {
            "cells": {
             "fill": {
              "color": "#EBF0F8"
             },
             "line": {
              "color": "white"
             }
            },
            "header": {
             "fill": {
              "color": "#C8D4E3"
             },
             "line": {
              "color": "white"
             }
            },
            "type": "table"
           }
          ]
         },
         "layout": {
          "annotationdefaults": {
           "arrowcolor": "#2a3f5f",
           "arrowhead": 0,
           "arrowwidth": 1
          },
          "autotypenumbers": "strict",
          "coloraxis": {
           "colorbar": {
            "outlinewidth": 0,
            "ticks": ""
           }
          },
          "colorscale": {
           "diverging": [
            [
             0,
             "#8e0152"
            ],
            [
             0.1,
             "#c51b7d"
            ],
            [
             0.2,
             "#de77ae"
            ],
            [
             0.3,
             "#f1b6da"
            ],
            [
             0.4,
             "#fde0ef"
            ],
            [
             0.5,
             "#f7f7f7"
            ],
            [
             0.6,
             "#e6f5d0"
            ],
            [
             0.7,
             "#b8e186"
            ],
            [
             0.8,
             "#7fbc41"
            ],
            [
             0.9,
             "#4d9221"
            ],
            [
             1,
             "#276419"
            ]
           ],
           "sequential": [
            [
             0,
             "#0d0887"
            ],
            [
             0.1111111111111111,
             "#46039f"
            ],
            [
             0.2222222222222222,
             "#7201a8"
            ],
            [
             0.3333333333333333,
             "#9c179e"
            ],
            [
             0.4444444444444444,
             "#bd3786"
            ],
            [
             0.5555555555555556,
             "#d8576b"
            ],
            [
             0.6666666666666666,
             "#ed7953"
            ],
            [
             0.7777777777777778,
             "#fb9f3a"
            ],
            [
             0.8888888888888888,
             "#fdca26"
            ],
            [
             1,
             "#f0f921"
            ]
           ],
           "sequentialminus": [
            [
             0,
             "#0d0887"
            ],
            [
             0.1111111111111111,
             "#46039f"
            ],
            [
             0.2222222222222222,
             "#7201a8"
            ],
            [
             0.3333333333333333,
             "#9c179e"
            ],
            [
             0.4444444444444444,
             "#bd3786"
            ],
            [
             0.5555555555555556,
             "#d8576b"
            ],
            [
             0.6666666666666666,
             "#ed7953"
            ],
            [
             0.7777777777777778,
             "#fb9f3a"
            ],
            [
             0.8888888888888888,
             "#fdca26"
            ],
            [
             1,
             "#f0f921"
            ]
           ]
          },
          "colorway": [
           "#636efa",
           "#EF553B",
           "#00cc96",
           "#ab63fa",
           "#FFA15A",
           "#19d3f3",
           "#FF6692",
           "#B6E880",
           "#FF97FF",
           "#FECB52"
          ],
          "font": {
           "color": "#2a3f5f"
          },
          "geo": {
           "bgcolor": "white",
           "lakecolor": "white",
           "landcolor": "#E5ECF6",
           "showlakes": true,
           "showland": true,
           "subunitcolor": "white"
          },
          "hoverlabel": {
           "align": "left"
          },
          "hovermode": "closest",
          "mapbox": {
           "style": "light"
          },
          "paper_bgcolor": "white",
          "plot_bgcolor": "#E5ECF6",
          "polar": {
           "angularaxis": {
            "gridcolor": "white",
            "linecolor": "white",
            "ticks": ""
           },
           "bgcolor": "#E5ECF6",
           "radialaxis": {
            "gridcolor": "white",
            "linecolor": "white",
            "ticks": ""
           }
          },
          "scene": {
           "xaxis": {
            "backgroundcolor": "#E5ECF6",
            "gridcolor": "white",
            "gridwidth": 2,
            "linecolor": "white",
            "showbackground": true,
            "ticks": "",
            "zerolinecolor": "white"
           },
           "yaxis": {
            "backgroundcolor": "#E5ECF6",
            "gridcolor": "white",
            "gridwidth": 2,
            "linecolor": "white",
            "showbackground": true,
            "ticks": "",
            "zerolinecolor": "white"
           },
           "zaxis": {
            "backgroundcolor": "#E5ECF6",
            "gridcolor": "white",
            "gridwidth": 2,
            "linecolor": "white",
            "showbackground": true,
            "ticks": "",
            "zerolinecolor": "white"
           }
          },
          "shapedefaults": {
           "line": {
            "color": "#2a3f5f"
           }
          },
          "ternary": {
           "aaxis": {
            "gridcolor": "white",
            "linecolor": "white",
            "ticks": ""
           },
           "baxis": {
            "gridcolor": "white",
            "linecolor": "white",
            "ticks": ""
           },
           "bgcolor": "#E5ECF6",
           "caxis": {
            "gridcolor": "white",
            "linecolor": "white",
            "ticks": ""
           }
          },
          "title": {
           "x": 0.05
          },
          "xaxis": {
           "automargin": true,
           "gridcolor": "white",
           "linecolor": "white",
           "ticks": "",
           "title": {
            "standoff": 15
           },
           "zerolinecolor": "white",
           "zerolinewidth": 2
          },
          "yaxis": {
           "automargin": true,
           "gridcolor": "white",
           "linecolor": "white",
           "ticks": "",
           "title": {
            "standoff": 15
           },
           "zerolinecolor": "white",
           "zerolinewidth": 2
          }
         }
        },
        "xaxis": {
         "anchor": "y",
         "domain": [
          0,
          1
         ],
         "title": {
          "text": "index"
         }
        },
        "yaxis": {
         "anchor": "x",
         "domain": [
          0,
          1
         ],
         "title": {
          "text": "value"
         }
        }
       }
      },
      "text/html": [
       "<div>                            <div id=\"51da57ef-8a5a-497c-ade6-63ddc4449541\" class=\"plotly-graph-div\" style=\"height:525px; width:100%;\"></div>            <script type=\"text/javascript\">                require([\"plotly\"], function(Plotly) {                    window.PLOTLYENV=window.PLOTLYENV || {};                                    if (document.getElementById(\"51da57ef-8a5a-497c-ade6-63ddc4449541\")) {                    Plotly.newPlot(                        \"51da57ef-8a5a-497c-ade6-63ddc4449541\",                        [{\"hovertemplate\":\"variable=Actual\\u003cbr\\u003eindex=%{x}\\u003cbr\\u003evalue=%{y}\\u003cextra\\u003e\\u003c\\u002fextra\\u003e\",\"legendgroup\":\"Actual\",\"line\":{\"color\":\"#636efa\",\"dash\":\"solid\"},\"marker\":{\"symbol\":\"circle\"},\"mode\":\"lines\",\"name\":\"Actual\",\"orientation\":\"v\",\"showlegend\":true,\"x\":[0,1,2,3,4,5,6,7,8,9,10,11,12,13,14,15,16,17,18,19,20,21,22,23,24,25,26],\"xaxis\":\"x\",\"y\":[0.2184177848124314,0.2240938970051336,0.229526546265914,0.2336985326127759,0.1903890769428584,0.2368034684851845,0.2587683316008676,0.251873576964191,0.2536988997061008,0.2605062451263723,0.2697580903805244,0.2357585510045421,0.2120672265035131,0.1875671348766288,0.1346420991411676,0.1011421386329893,0.0642452370861499,0.0885888942358245,0.1099322761631366,0.1043948686211067,0.122717668035749,0.0645587504065119,0.0443591961320078,0.0028642456666634,0.0,0.0532866324234984,0.0618574072842835],\"yaxis\":\"y\",\"type\":\"scatter\"},{\"hovertemplate\":\"variable=Predicted\\u003cbr\\u003eindex=%{x}\\u003cbr\\u003evalue=%{y}\\u003cextra\\u003e\\u003c\\u002fextra\\u003e\",\"legendgroup\":\"Predicted\",\"line\":{\"color\":\"#EF553B\",\"dash\":\"solid\"},\"marker\":{\"symbol\":\"circle\"},\"mode\":\"lines\",\"name\":\"Predicted\",\"orientation\":\"v\",\"showlegend\":true,\"x\":[0,1,2,3,4,5,6,7,8,9,10,11,12,13,14,15,16,17,18,19,20,21,22,23,24,25,26],\"xaxis\":\"x\",\"y\":[0.21606668829917908,0.22693638503551483,0.23962323367595673,0.2527729868888855,0.255939781665802,0.2208823561668396,0.2364249974489212,0.259792685508728,0.260791152715683,0.25480082631111145,0.263641357421875,0.26911240816116333,0.24390222132205963,0.211069256067276,0.19122067093849182,0.1463935226202011,0.10991466045379639,0.07956676930189133,0.07441772520542145,0.09138641506433487,0.09826947748661041,0.12186635285615921,0.10610836744308472,0.07490132004022598,0.03206409513950348,0.014196805655956268,0.04249364510178566],\"yaxis\":\"y\",\"type\":\"scatter\"}],                        {\"template\":{\"data\":{\"histogram2dcontour\":[{\"type\":\"histogram2dcontour\",\"colorbar\":{\"outlinewidth\":0,\"ticks\":\"\"},\"colorscale\":[[0.0,\"#0d0887\"],[0.1111111111111111,\"#46039f\"],[0.2222222222222222,\"#7201a8\"],[0.3333333333333333,\"#9c179e\"],[0.4444444444444444,\"#bd3786\"],[0.5555555555555556,\"#d8576b\"],[0.6666666666666666,\"#ed7953\"],[0.7777777777777778,\"#fb9f3a\"],[0.8888888888888888,\"#fdca26\"],[1.0,\"#f0f921\"]]}],\"choropleth\":[{\"type\":\"choropleth\",\"colorbar\":{\"outlinewidth\":0,\"ticks\":\"\"}}],\"histogram2d\":[{\"type\":\"histogram2d\",\"colorbar\":{\"outlinewidth\":0,\"ticks\":\"\"},\"colorscale\":[[0.0,\"#0d0887\"],[0.1111111111111111,\"#46039f\"],[0.2222222222222222,\"#7201a8\"],[0.3333333333333333,\"#9c179e\"],[0.4444444444444444,\"#bd3786\"],[0.5555555555555556,\"#d8576b\"],[0.6666666666666666,\"#ed7953\"],[0.7777777777777778,\"#fb9f3a\"],[0.8888888888888888,\"#fdca26\"],[1.0,\"#f0f921\"]]}],\"heatmap\":[{\"type\":\"heatmap\",\"colorbar\":{\"outlinewidth\":0,\"ticks\":\"\"},\"colorscale\":[[0.0,\"#0d0887\"],[0.1111111111111111,\"#46039f\"],[0.2222222222222222,\"#7201a8\"],[0.3333333333333333,\"#9c179e\"],[0.4444444444444444,\"#bd3786\"],[0.5555555555555556,\"#d8576b\"],[0.6666666666666666,\"#ed7953\"],[0.7777777777777778,\"#fb9f3a\"],[0.8888888888888888,\"#fdca26\"],[1.0,\"#f0f921\"]]}],\"heatmapgl\":[{\"type\":\"heatmapgl\",\"colorbar\":{\"outlinewidth\":0,\"ticks\":\"\"},\"colorscale\":[[0.0,\"#0d0887\"],[0.1111111111111111,\"#46039f\"],[0.2222222222222222,\"#7201a8\"],[0.3333333333333333,\"#9c179e\"],[0.4444444444444444,\"#bd3786\"],[0.5555555555555556,\"#d8576b\"],[0.6666666666666666,\"#ed7953\"],[0.7777777777777778,\"#fb9f3a\"],[0.8888888888888888,\"#fdca26\"],[1.0,\"#f0f921\"]]}],\"contourcarpet\":[{\"type\":\"contourcarpet\",\"colorbar\":{\"outlinewidth\":0,\"ticks\":\"\"}}],\"contour\":[{\"type\":\"contour\",\"colorbar\":{\"outlinewidth\":0,\"ticks\":\"\"},\"colorscale\":[[0.0,\"#0d0887\"],[0.1111111111111111,\"#46039f\"],[0.2222222222222222,\"#7201a8\"],[0.3333333333333333,\"#9c179e\"],[0.4444444444444444,\"#bd3786\"],[0.5555555555555556,\"#d8576b\"],[0.6666666666666666,\"#ed7953\"],[0.7777777777777778,\"#fb9f3a\"],[0.8888888888888888,\"#fdca26\"],[1.0,\"#f0f921\"]]}],\"surface\":[{\"type\":\"surface\",\"colorbar\":{\"outlinewidth\":0,\"ticks\":\"\"},\"colorscale\":[[0.0,\"#0d0887\"],[0.1111111111111111,\"#46039f\"],[0.2222222222222222,\"#7201a8\"],[0.3333333333333333,\"#9c179e\"],[0.4444444444444444,\"#bd3786\"],[0.5555555555555556,\"#d8576b\"],[0.6666666666666666,\"#ed7953\"],[0.7777777777777778,\"#fb9f3a\"],[0.8888888888888888,\"#fdca26\"],[1.0,\"#f0f921\"]]}],\"mesh3d\":[{\"type\":\"mesh3d\",\"colorbar\":{\"outlinewidth\":0,\"ticks\":\"\"}}],\"scatter\":[{\"fillpattern\":{\"fillmode\":\"overlay\",\"size\":10,\"solidity\":0.2},\"type\":\"scatter\"}],\"parcoords\":[{\"type\":\"parcoords\",\"line\":{\"colorbar\":{\"outlinewidth\":0,\"ticks\":\"\"}}}],\"scatterpolargl\":[{\"type\":\"scatterpolargl\",\"marker\":{\"colorbar\":{\"outlinewidth\":0,\"ticks\":\"\"}}}],\"bar\":[{\"error_x\":{\"color\":\"#2a3f5f\"},\"error_y\":{\"color\":\"#2a3f5f\"},\"marker\":{\"line\":{\"color\":\"#E5ECF6\",\"width\":0.5},\"pattern\":{\"fillmode\":\"overlay\",\"size\":10,\"solidity\":0.2}},\"type\":\"bar\"}],\"scattergeo\":[{\"type\":\"scattergeo\",\"marker\":{\"colorbar\":{\"outlinewidth\":0,\"ticks\":\"\"}}}],\"scatterpolar\":[{\"type\":\"scatterpolar\",\"marker\":{\"colorbar\":{\"outlinewidth\":0,\"ticks\":\"\"}}}],\"histogram\":[{\"marker\":{\"pattern\":{\"fillmode\":\"overlay\",\"size\":10,\"solidity\":0.2}},\"type\":\"histogram\"}],\"scattergl\":[{\"type\":\"scattergl\",\"marker\":{\"colorbar\":{\"outlinewidth\":0,\"ticks\":\"\"}}}],\"scatter3d\":[{\"type\":\"scatter3d\",\"line\":{\"colorbar\":{\"outlinewidth\":0,\"ticks\":\"\"}},\"marker\":{\"colorbar\":{\"outlinewidth\":0,\"ticks\":\"\"}}}],\"scattermapbox\":[{\"type\":\"scattermapbox\",\"marker\":{\"colorbar\":{\"outlinewidth\":0,\"ticks\":\"\"}}}],\"scatterternary\":[{\"type\":\"scatterternary\",\"marker\":{\"colorbar\":{\"outlinewidth\":0,\"ticks\":\"\"}}}],\"scattercarpet\":[{\"type\":\"scattercarpet\",\"marker\":{\"colorbar\":{\"outlinewidth\":0,\"ticks\":\"\"}}}],\"carpet\":[{\"aaxis\":{\"endlinecolor\":\"#2a3f5f\",\"gridcolor\":\"white\",\"linecolor\":\"white\",\"minorgridcolor\":\"white\",\"startlinecolor\":\"#2a3f5f\"},\"baxis\":{\"endlinecolor\":\"#2a3f5f\",\"gridcolor\":\"white\",\"linecolor\":\"white\",\"minorgridcolor\":\"white\",\"startlinecolor\":\"#2a3f5f\"},\"type\":\"carpet\"}],\"table\":[{\"cells\":{\"fill\":{\"color\":\"#EBF0F8\"},\"line\":{\"color\":\"white\"}},\"header\":{\"fill\":{\"color\":\"#C8D4E3\"},\"line\":{\"color\":\"white\"}},\"type\":\"table\"}],\"barpolar\":[{\"marker\":{\"line\":{\"color\":\"#E5ECF6\",\"width\":0.5},\"pattern\":{\"fillmode\":\"overlay\",\"size\":10,\"solidity\":0.2}},\"type\":\"barpolar\"}],\"pie\":[{\"automargin\":true,\"type\":\"pie\"}]},\"layout\":{\"autotypenumbers\":\"strict\",\"colorway\":[\"#636efa\",\"#EF553B\",\"#00cc96\",\"#ab63fa\",\"#FFA15A\",\"#19d3f3\",\"#FF6692\",\"#B6E880\",\"#FF97FF\",\"#FECB52\"],\"font\":{\"color\":\"#2a3f5f\"},\"hovermode\":\"closest\",\"hoverlabel\":{\"align\":\"left\"},\"paper_bgcolor\":\"white\",\"plot_bgcolor\":\"#E5ECF6\",\"polar\":{\"bgcolor\":\"#E5ECF6\",\"angularaxis\":{\"gridcolor\":\"white\",\"linecolor\":\"white\",\"ticks\":\"\"},\"radialaxis\":{\"gridcolor\":\"white\",\"linecolor\":\"white\",\"ticks\":\"\"}},\"ternary\":{\"bgcolor\":\"#E5ECF6\",\"aaxis\":{\"gridcolor\":\"white\",\"linecolor\":\"white\",\"ticks\":\"\"},\"baxis\":{\"gridcolor\":\"white\",\"linecolor\":\"white\",\"ticks\":\"\"},\"caxis\":{\"gridcolor\":\"white\",\"linecolor\":\"white\",\"ticks\":\"\"}},\"coloraxis\":{\"colorbar\":{\"outlinewidth\":0,\"ticks\":\"\"}},\"colorscale\":{\"sequential\":[[0.0,\"#0d0887\"],[0.1111111111111111,\"#46039f\"],[0.2222222222222222,\"#7201a8\"],[0.3333333333333333,\"#9c179e\"],[0.4444444444444444,\"#bd3786\"],[0.5555555555555556,\"#d8576b\"],[0.6666666666666666,\"#ed7953\"],[0.7777777777777778,\"#fb9f3a\"],[0.8888888888888888,\"#fdca26\"],[1.0,\"#f0f921\"]],\"sequentialminus\":[[0.0,\"#0d0887\"],[0.1111111111111111,\"#46039f\"],[0.2222222222222222,\"#7201a8\"],[0.3333333333333333,\"#9c179e\"],[0.4444444444444444,\"#bd3786\"],[0.5555555555555556,\"#d8576b\"],[0.6666666666666666,\"#ed7953\"],[0.7777777777777778,\"#fb9f3a\"],[0.8888888888888888,\"#fdca26\"],[1.0,\"#f0f921\"]],\"diverging\":[[0,\"#8e0152\"],[0.1,\"#c51b7d\"],[0.2,\"#de77ae\"],[0.3,\"#f1b6da\"],[0.4,\"#fde0ef\"],[0.5,\"#f7f7f7\"],[0.6,\"#e6f5d0\"],[0.7,\"#b8e186\"],[0.8,\"#7fbc41\"],[0.9,\"#4d9221\"],[1,\"#276419\"]]},\"xaxis\":{\"gridcolor\":\"white\",\"linecolor\":\"white\",\"ticks\":\"\",\"title\":{\"standoff\":15},\"zerolinecolor\":\"white\",\"automargin\":true,\"zerolinewidth\":2},\"yaxis\":{\"gridcolor\":\"white\",\"linecolor\":\"white\",\"ticks\":\"\",\"title\":{\"standoff\":15},\"zerolinecolor\":\"white\",\"automargin\":true,\"zerolinewidth\":2},\"scene\":{\"xaxis\":{\"backgroundcolor\":\"#E5ECF6\",\"gridcolor\":\"white\",\"linecolor\":\"white\",\"showbackground\":true,\"ticks\":\"\",\"zerolinecolor\":\"white\",\"gridwidth\":2},\"yaxis\":{\"backgroundcolor\":\"#E5ECF6\",\"gridcolor\":\"white\",\"linecolor\":\"white\",\"showbackground\":true,\"ticks\":\"\",\"zerolinecolor\":\"white\",\"gridwidth\":2},\"zaxis\":{\"backgroundcolor\":\"#E5ECF6\",\"gridcolor\":\"white\",\"linecolor\":\"white\",\"showbackground\":true,\"ticks\":\"\",\"zerolinecolor\":\"white\",\"gridwidth\":2}},\"shapedefaults\":{\"line\":{\"color\":\"#2a3f5f\"}},\"annotationdefaults\":{\"arrowcolor\":\"#2a3f5f\",\"arrowhead\":0,\"arrowwidth\":1},\"geo\":{\"bgcolor\":\"white\",\"landcolor\":\"#E5ECF6\",\"subunitcolor\":\"white\",\"showland\":true,\"showlakes\":true,\"lakecolor\":\"white\"},\"title\":{\"x\":0.05},\"mapbox\":{\"style\":\"light\"}}},\"xaxis\":{\"anchor\":\"y\",\"domain\":[0.0,1.0],\"title\":{\"text\":\"index\"}},\"yaxis\":{\"anchor\":\"x\",\"domain\":[0.0,1.0],\"title\":{\"text\":\"value\"}},\"legend\":{\"title\":{\"text\":\"variable\"},\"tracegroupgap\":0},\"margin\":{\"t\":60}},                        {\"responsive\": true}                    ).then(function(){\n",
       "                            \n",
       "var gd = document.getElementById('51da57ef-8a5a-497c-ade6-63ddc4449541');\n",
       "var x = new MutationObserver(function (mutations, observer) {{\n",
       "        var display = window.getComputedStyle(gd).display;\n",
       "        if (!display || display === 'none') {{\n",
       "            console.log([gd, 'removed!']);\n",
       "            Plotly.purge(gd);\n",
       "            observer.disconnect();\n",
       "        }}\n",
       "}});\n",
       "\n",
       "// Listen for the removal of the full notebook cells\n",
       "var notebookContainer = gd.closest('#notebook-container');\n",
       "if (notebookContainer) {{\n",
       "    x.observe(notebookContainer, {childList: true});\n",
       "}}\n",
       "\n",
       "// Listen for the clearing of the current output cell\n",
       "var outputEl = gd.closest('.output');\n",
       "if (outputEl) {{\n",
       "    x.observe(outputEl, {childList: true});\n",
       "}}\n",
       "\n",
       "                        })                };                });            </script>        </div>"
      ]
     },
     "metadata": {},
     "output_type": "display_data"
    }
   ],
   "source": [
    "px.line(export_dataset)"
   ]
  },
  {
   "cell_type": "code",
   "execution_count": null,
   "id": "e8336663-75a9-4b37-a992-0e3aca73b660",
   "metadata": {},
   "outputs": [],
   "source": []
  }
 ],
 "metadata": {
  "kernelspec": {
   "display_name": "Python 3.10 (tensorflow)",
   "language": "python",
   "name": "python310_tensorflow"
  },
  "language_info": {
   "codemirror_mode": {
    "name": "ipython",
    "version": 3
   },
   "file_extension": ".py",
   "mimetype": "text/x-python",
   "name": "python",
   "nbconvert_exporter": "python",
   "pygments_lexer": "ipython3",
   "version": "3.10.13"
  }
 },
 "nbformat": 4,
 "nbformat_minor": 5
}
