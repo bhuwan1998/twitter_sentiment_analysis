{
 "cells": [
  {
   "cell_type": "markdown",
   "id": "2f14ef48-b4da-4e9c-9db3-b6ee9ab0dc87",
   "metadata": {
    "tags": []
   },
   "source": [
    "## LSTM On the Merged Data - Final Attempt at finding patterns "
   ]
  },
  {
   "cell_type": "code",
   "execution_count": 19,
   "id": "7162bd36-8563-42d9-8654-a85abf4039eb",
   "metadata": {
    "tags": []
   },
   "outputs": [],
   "source": [
    "# Imports \n",
    "import pandas as pd  \n",
    "import numpy as np\n",
    "from sklearn.model_selection import train_test_split\n",
    "from tensorflow.keras.models import Sequential \n",
    "from tensorflow.keras.layers import LSTM, Dense, Dropout\n",
    "import matplotlib.pyplot as plt"
   ]
  },
  {
   "cell_type": "code",
   "execution_count": 6,
   "id": "190f0d86-5cfd-4f0b-b757-22cf954db75b",
   "metadata": {},
   "outputs": [],
   "source": [
    "df = pd.read_csv(\"Final_Merged_Data.csv\", index_col=0)"
   ]
  },
  {
   "cell_type": "code",
   "execution_count": 7,
   "id": "47fadcb3-0e29-409e-b1d4-fd964805cd9d",
   "metadata": {
    "tags": []
   },
   "outputs": [],
   "source": [
    "features = df[[\"Average Sentiment\", \"Normalised Average Price\"]]"
   ]
  },
  {
   "cell_type": "code",
   "execution_count": 12,
   "id": "a472e435-484e-4a1b-b80a-79989dc1260e",
   "metadata": {
    "tags": []
   },
   "outputs": [],
   "source": [
    "# Create Sequences \n",
    "def create_sequences(data, sequence_length):\n",
    "    X, y = [], [] \n",
    "    for i in range(len(data) - sequence_length): \n",
    "        X.append(data[i:i+sequence_length])\n",
    "        y.append(data[i+sequence_length, 1]) # Normalised Average \n",
    "    return np.array(X), np.array(y) \n",
    "\n",
    "sequence_length = 10 \n",
    "\n",
    "X,y = create_sequences(features.values, sequence_length) \n",
    "\n",
    "# Split Data \n",
    "X_train, X_test, y_train, y_test = train_test_split(X, y, test_size=0.2, shuffle=False)\n",
    "X_train = X_train.astype('float32')  # Convert to float32\n",
    "\n",
    "# Build LSTM Model \n",
    "model = Sequential() \n",
    "model.add(LSTM(50, input_shape=(sequence_length, 2), return_sequences=True))\n",
    "model.add(LSTM(50, return_sequences=False))\n",
    "model.add(Dense(1))\n",
    "model.compile(optimizer=\"adam\", loss=\"mean_squared_error\")"
   ]
  },
  {
   "cell_type": "code",
   "execution_count": 24,
   "id": "3837c89c-b367-4b30-bf48-ec71d931033f",
   "metadata": {
    "tags": []
   },
   "outputs": [
    {
     "name": "stdout",
     "output_type": "stream",
     "text": [
      "Epoch 1/60\n",
      "3/3 [==============================] - 0s 17ms/step - loss: 0.0096 - val_loss: 0.0272\n",
      "Epoch 2/60\n",
      "3/3 [==============================] - 0s 8ms/step - loss: 0.0100 - val_loss: 0.0235\n",
      "Epoch 3/60\n",
      "3/3 [==============================] - 0s 8ms/step - loss: 0.0089 - val_loss: 0.0187\n",
      "Epoch 4/60\n",
      "3/3 [==============================] - 0s 8ms/step - loss: 0.0094 - val_loss: 0.0149\n",
      "Epoch 5/60\n",
      "3/3 [==============================] - 0s 8ms/step - loss: 0.0095 - val_loss: 0.0183\n",
      "Epoch 6/60\n",
      "3/3 [==============================] - 0s 8ms/step - loss: 0.0086 - val_loss: 0.0234\n",
      "Epoch 7/60\n",
      "3/3 [==============================] - 0s 8ms/step - loss: 0.0092 - val_loss: 0.0265\n",
      "Epoch 8/60\n",
      "3/3 [==============================] - 0s 8ms/step - loss: 0.0094 - val_loss: 0.0195\n",
      "Epoch 9/60\n",
      "3/3 [==============================] - 0s 8ms/step - loss: 0.0083 - val_loss: 0.0170\n",
      "Epoch 10/60\n",
      "3/3 [==============================] - 0s 8ms/step - loss: 0.0084 - val_loss: 0.0185\n",
      "Epoch 11/60\n",
      "3/3 [==============================] - 0s 8ms/step - loss: 0.0081 - val_loss: 0.0177\n",
      "Epoch 12/60\n",
      "3/3 [==============================] - 0s 8ms/step - loss: 0.0081 - val_loss: 0.0160\n",
      "Epoch 13/60\n",
      "3/3 [==============================] - 0s 8ms/step - loss: 0.0083 - val_loss: 0.0162\n",
      "Epoch 14/60\n",
      "3/3 [==============================] - 0s 8ms/step - loss: 0.0080 - val_loss: 0.0178\n",
      "Epoch 15/60\n",
      "3/3 [==============================] - 0s 8ms/step - loss: 0.0079 - val_loss: 0.0198\n",
      "Epoch 16/60\n",
      "3/3 [==============================] - 0s 8ms/step - loss: 0.0080 - val_loss: 0.0207\n",
      "Epoch 17/60\n",
      "3/3 [==============================] - 0s 8ms/step - loss: 0.0081 - val_loss: 0.0188\n",
      "Epoch 18/60\n",
      "3/3 [==============================] - 0s 8ms/step - loss: 0.0078 - val_loss: 0.0171\n",
      "Epoch 19/60\n",
      "3/3 [==============================] - 0s 8ms/step - loss: 0.0076 - val_loss: 0.0187\n",
      "Epoch 20/60\n",
      "3/3 [==============================] - 0s 8ms/step - loss: 0.0077 - val_loss: 0.0182\n",
      "Epoch 21/60\n",
      "3/3 [==============================] - 0s 8ms/step - loss: 0.0076 - val_loss: 0.0164\n",
      "Epoch 22/60\n",
      "3/3 [==============================] - 0s 8ms/step - loss: 0.0075 - val_loss: 0.0177\n",
      "Epoch 23/60\n",
      "3/3 [==============================] - 0s 8ms/step - loss: 0.0075 - val_loss: 0.0194\n",
      "Epoch 24/60\n",
      "3/3 [==============================] - 0s 8ms/step - loss: 0.0074 - val_loss: 0.0156\n",
      "Epoch 25/60\n",
      "3/3 [==============================] - 0s 8ms/step - loss: 0.0077 - val_loss: 0.0125\n",
      "Epoch 26/60\n",
      "3/3 [==============================] - 0s 8ms/step - loss: 0.0084 - val_loss: 0.0147\n",
      "Epoch 27/60\n",
      "3/3 [==============================] - 0s 8ms/step - loss: 0.0074 - val_loss: 0.0186\n",
      "Epoch 28/60\n",
      "3/3 [==============================] - 0s 8ms/step - loss: 0.0076 - val_loss: 0.0182\n",
      "Epoch 29/60\n",
      "3/3 [==============================] - 0s 8ms/step - loss: 0.0074 - val_loss: 0.0135\n",
      "Epoch 30/60\n",
      "3/3 [==============================] - 0s 9ms/step - loss: 0.0073 - val_loss: 0.0114\n",
      "Epoch 31/60\n",
      "3/3 [==============================] - 0s 8ms/step - loss: 0.0078 - val_loss: 0.0113\n",
      "Epoch 32/60\n",
      "3/3 [==============================] - 0s 8ms/step - loss: 0.0073 - val_loss: 0.0162\n",
      "Epoch 33/60\n",
      "3/3 [==============================] - 0s 8ms/step - loss: 0.0074 - val_loss: 0.0184\n",
      "Epoch 34/60\n",
      "3/3 [==============================] - 0s 8ms/step - loss: 0.0072 - val_loss: 0.0108\n",
      "Epoch 35/60\n",
      "3/3 [==============================] - 0s 8ms/step - loss: 0.0086 - val_loss: 0.0096\n",
      "Epoch 36/60\n",
      "3/3 [==============================] - 0s 8ms/step - loss: 0.0078 - val_loss: 0.0189\n",
      "Epoch 37/60\n",
      "3/3 [==============================] - 0s 8ms/step - loss: 0.0090 - val_loss: 0.0225\n",
      "Epoch 38/60\n",
      "3/3 [==============================] - 0s 8ms/step - loss: 0.0098 - val_loss: 0.0125\n",
      "Epoch 39/60\n",
      "3/3 [==============================] - 0s 8ms/step - loss: 0.0070 - val_loss: 0.0097\n",
      "Epoch 40/60\n",
      "3/3 [==============================] - 0s 8ms/step - loss: 0.0071 - val_loss: 0.0134\n",
      "Epoch 41/60\n",
      "3/3 [==============================] - 0s 8ms/step - loss: 0.0071 - val_loss: 0.0150\n",
      "Epoch 42/60\n",
      "3/3 [==============================] - 0s 8ms/step - loss: 0.0069 - val_loss: 0.0112\n",
      "Epoch 43/60\n",
      "3/3 [==============================] - 0s 8ms/step - loss: 0.0070 - val_loss: 0.0118\n",
      "Epoch 44/60\n",
      "3/3 [==============================] - 0s 8ms/step - loss: 0.0068 - val_loss: 0.0154\n",
      "Epoch 45/60\n",
      "3/3 [==============================] - 0s 8ms/step - loss: 0.0074 - val_loss: 0.0133\n",
      "Epoch 46/60\n",
      "3/3 [==============================] - 0s 8ms/step - loss: 0.0068 - val_loss: 0.0112\n",
      "Epoch 47/60\n",
      "3/3 [==============================] - 0s 8ms/step - loss: 0.0069 - val_loss: 0.0124\n",
      "Epoch 48/60\n",
      "3/3 [==============================] - 0s 8ms/step - loss: 0.0067 - val_loss: 0.0181\n",
      "Epoch 49/60\n",
      "3/3 [==============================] - 0s 8ms/step - loss: 0.0080 - val_loss: 0.0169\n",
      "Epoch 50/60\n",
      "3/3 [==============================] - 0s 8ms/step - loss: 0.0070 - val_loss: 0.0108\n",
      "Epoch 51/60\n",
      "3/3 [==============================] - 0s 8ms/step - loss: 0.0074 - val_loss: 0.0116\n",
      "Epoch 52/60\n",
      "3/3 [==============================] - 0s 9ms/step - loss: 0.0069 - val_loss: 0.0167\n",
      "Epoch 53/60\n",
      "3/3 [==============================] - 0s 8ms/step - loss: 0.0070 - val_loss: 0.0197\n",
      "Epoch 54/60\n",
      "3/3 [==============================] - 0s 8ms/step - loss: 0.0074 - val_loss: 0.0147\n",
      "Epoch 55/60\n",
      "3/3 [==============================] - 0s 8ms/step - loss: 0.0069 - val_loss: 0.0091\n",
      "Epoch 56/60\n",
      "3/3 [==============================] - 0s 8ms/step - loss: 0.0082 - val_loss: 0.0118\n",
      "Epoch 57/60\n",
      "3/3 [==============================] - 0s 8ms/step - loss: 0.0070 - val_loss: 0.0212\n",
      "Epoch 58/60\n",
      "3/3 [==============================] - 0s 9ms/step - loss: 0.0092 - val_loss: 0.0165\n",
      "Epoch 59/60\n",
      "3/3 [==============================] - 0s 8ms/step - loss: 0.0067 - val_loss: 0.0092\n",
      "Epoch 60/60\n",
      "3/3 [==============================] - 0s 8ms/step - loss: 0.0077 - val_loss: 0.0094\n"
     ]
    },
    {
     "data": {
      "text/plain": [
       "<keras.src.callbacks.History at 0x2e5b82cd0>"
      ]
     },
     "execution_count": 24,
     "metadata": {},
     "output_type": "execute_result"
    }
   ],
   "source": [
    "# Train The Model \n",
    "model.fit(X_train, y_train, batch_size=64, epochs=60, validation_data=(X_test, y_test))"
   ]
  },
  {
   "cell_type": "code",
   "execution_count": 22,
   "id": "7bf9db7b-13f6-4cf9-9f67-37bc4c0c1d4b",
   "metadata": {
    "tags": []
   },
   "outputs": [
    {
     "name": "stdout",
     "output_type": "stream",
     "text": [
      "2/2 [==============================] - 0s 3ms/step\n",
      "Mean Squared Error: 0.03983071836663729\n"
     ]
    }
   ],
   "source": [
    "# Evaluate the Model\n",
    "predictions = model.predict(X_test)\n",
    "mse = np.mean((predictions - y_test)**2)\n",
    "print(f\"Mean Squared Error: {mse}\")"
   ]
  },
  {
   "cell_type": "code",
   "execution_count": 23,
   "id": "67b67f58-2eae-45cc-a59f-c800df5ad468",
   "metadata": {
    "tags": []
   },
   "outputs": [
    {
     "name": "stdout",
     "output_type": "stream",
     "text": [
      "1/1 [==============================] - 0s 10ms/step\n"
     ]
    },
    {
     "data": {
      "image/png": "[encoded data removed]",
      "text/plain": [
       "<Figure size 640x480 with 1 Axes>"
      ]
     },
     "metadata": {},
     "output_type": "display_data"
    }
   ],
   "source": [
    "# Make Predictions\n",
    "last_sequence = X[-1]\n",
    "prediction = model.predict(np.array([last_sequence]))[0][0]\n",
    "\n",
    "# Visualize Results\n",
    "actual_prices = df['Normalised Average Price'].values\n",
    "plt.plot(actual_prices[-len(predictions):], label='Actual Normalised Prices')\n",
    "plt.plot(predictions, label='Predicted Normalised Prices')\n",
    "plt.legend()\n",
    "plt.show()"
   ]
  },
  {
   "cell_type": "code",
   "execution_count": null,
   "id": "a2f85b9a-3459-4d35-a24d-700c2cc31343",
   "metadata": {},
   "outputs": [],
   "source": []
  }
 ],
 "metadata": {
  "kernelspec": {
   "display_name": "Python 3 (ipykernel)",
   "language": "python",
   "name": "python3"
  },
  "language_info": {
   "codemirror_mode": {
    "name": "ipython",
    "version": 3
   },
   "file_extension": ".py",
   "mimetype": "text/x-python",
   "name": "python",
   "nbconvert_exporter": "python",
   "pygments_lexer": "ipython3",
   "version": "3.11.5"
  }
 },
 "nbformat": 4,
 "nbformat_minor": 5
}
