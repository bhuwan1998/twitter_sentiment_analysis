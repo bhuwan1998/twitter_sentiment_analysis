{
 "cells": [
  {
   "cell_type": "markdown",
   "id": "2f14ef48-b4da-4e9c-9db3-b6ee9ab0dc87",
   "metadata": {
    "tags": []
   },
   "source": [
    "## LSTM On the Merged Data - Final Attempt at finding patterns "
   ]
  },
  {
   "cell_type": "code",
   "execution_count": 2,
   "id": "7162bd36-8563-42d9-8654-a85abf4039eb",
   "metadata": {
    "tags": []
   },
   "outputs": [],
   "source": [
    "# Imports \n",
    "import pandas as pd  \n",
    "import numpy as np\n",
    "from sklearn.model_selection import train_test_split\n",
    "from tensorflow.keras.models import Sequential \n",
    "from tensorflow.keras.layers import LSTM, Dense, Dropout\n",
    "from tensorflow.keras.callbacks import EarlyStopping, ModelCheckpoint\n",
    "import matplotlib.pyplot as plt"
   ]
  },
  {
   "cell_type": "code",
   "execution_count": 3,
   "id": "190f0d86-5cfd-4f0b-b757-22cf954db75b",
   "metadata": {},
   "outputs": [],
   "source": [
    "df = pd.read_csv(\"Final_Merged_Data.csv\", index_col=0)"
   ]
  },
  {
   "cell_type": "code",
   "execution_count": 4,
   "id": "47fadcb3-0e29-409e-b1d4-fd964805cd9d",
   "metadata": {
    "tags": []
   },
   "outputs": [],
   "source": [
    "features = df[[\"Average Sentiment\", \"Normalised Average Price\"]]"
   ]
  },
  {
   "cell_type": "code",
   "execution_count": 6,
   "id": "a472e435-484e-4a1b-b80a-79989dc1260e",
   "metadata": {
    "tags": []
   },
   "outputs": [],
   "source": [
    "# Create Sequences \n",
    "def create_sequences(data, sequence_length):\n",
    "    X, y = [], [] \n",
    "    for i in range(len(data) - sequence_length): \n",
    "        X.append(data[i:i+sequence_length])\n",
    "        y.append(data[i+sequence_length, 1]) # Normalised Average \n",
    "    return np.array(X), np.array(y) \n",
    "\n",
    "sequence_length = 10 \n",
    "\n",
    "X,y = create_sequences(features.values, sequence_length) \n",
    "\n",
    "# Split Data \n",
    "X_train, X_test, y_train, y_test = train_test_split(X, y, test_size=0.2, shuffle=True)\n",
    "X_train = X_train.astype('float32')  # Convert to float32\n",
    "\n",
    "# Build LSTM Model \n",
    "model = Sequential() \n",
    "model.add(LSTM(50, input_shape=(sequence_length, 2), return_sequences=True))\n",
    "model.add(LSTM(50, return_sequences=False))\n",
    "model.add(Dense(1))\n",
    "\n",
    "# Hyperparameter Tuning\n",
    "model.compile(optimizer=\"adam\", loss=\"mean_squared_error\")\n",
    "\n",
    "# Model Checkpoint \n",
    "checkpoint = ModelCheckpoint(\"best_model.h5\", save_best_only=True)\n",
    "\n",
    "# Early Stopping \n",
    "early_stopping = EarlyStopping(patience=10, restore_best_weights=True) "
   ]
  },
  {
   "cell_type": "code",
   "execution_count": 7,
   "id": "3837c89c-b367-4b30-bf48-ec71d931033f",
   "metadata": {
    "tags": []
   },
   "outputs": [
    {
     "name": "stdout",
     "output_type": "stream",
     "text": [
      "Epoch 1/100\n",
      "3/3 [==============================] - 1s 128ms/step - loss: 0.2791 - val_loss: 0.1903\n",
      "Epoch 2/100\n",
      "3/3 [==============================] - 0s 13ms/step - loss: 0.1126 - val_loss: 0.0605\n",
      "Epoch 3/100\n",
      "3/3 [==============================] - 0s 14ms/step - loss: 0.0358 - val_loss: 0.0305\n",
      "Epoch 4/100\n",
      "3/3 [==============================] - 0s 8ms/step - loss: 0.0429 - val_loss: 0.0403\n",
      "Epoch 5/100\n",
      "3/3 [==============================] - 0s 11ms/step - loss: 0.0523 - val_loss: 0.0291\n",
      "Epoch 6/100\n",
      "3/3 [==============================] - 0s 11ms/step - loss: 0.0339 - val_loss: 0.0264\n",
      "Epoch 7/100\n",
      "3/3 [==============================] - 0s 8ms/step - loss: 0.0243 - val_loss: 0.0355\n",
      "Epoch 8/100\n",
      "3/3 [==============================] - 0s 8ms/step - loss: 0.0257 - val_loss: 0.0428\n",
      "Epoch 9/100\n"
     ]
    },
    {
     "name": "stderr",
     "output_type": "stream",
     "text": [
      "/Users/bhuwanbansal/miniconda3/lib/python3.11/site-packages/keras/src/engine/training.py:3079: UserWarning: You are saving your model as an HDF5 file via `model.save()`. This file format is considered legacy. We recommend using instead the native Keras format, e.g. `model.save('my_model.keras')`.\n",
      "  saving_api.save_model(\n"
     ]
    },
    {
     "name": "stdout",
     "output_type": "stream",
     "text": [
      "3/3 [==============================] - 0s 9ms/step - loss: 0.0292 - val_loss: 0.0399\n",
      "Epoch 10/100\n",
      "3/3 [==============================] - 0s 10ms/step - loss: 0.0250 - val_loss: 0.0260\n",
      "Epoch 11/100\n",
      "3/3 [==============================] - 0s 10ms/step - loss: 0.0188 - val_loss: 0.0192\n",
      "Epoch 12/100\n",
      "3/3 [==============================] - 0s 8ms/step - loss: 0.0195 - val_loss: 0.0195\n",
      "Epoch 13/100\n",
      "3/3 [==============================] - 0s 11ms/step - loss: 0.0217 - val_loss: 0.0181\n",
      "Epoch 14/100\n",
      "3/3 [==============================] - 0s 8ms/step - loss: 0.0178 - val_loss: 0.0189\n",
      "Epoch 15/100\n",
      "3/3 [==============================] - 0s 8ms/step - loss: 0.0151 - val_loss: 0.0246\n",
      "Epoch 16/100\n",
      "3/3 [==============================] - 0s 8ms/step - loss: 0.0171 - val_loss: 0.0259\n",
      "Epoch 17/100\n",
      "3/3 [==============================] - 0s 8ms/step - loss: 0.0168 - val_loss: 0.0208\n",
      "Epoch 18/100\n",
      "3/3 [==============================] - 0s 10ms/step - loss: 0.0140 - val_loss: 0.0164\n",
      "Epoch 19/100\n",
      "3/3 [==============================] - 0s 10ms/step - loss: 0.0131 - val_loss: 0.0153\n",
      "Epoch 20/100\n",
      "3/3 [==============================] - 0s 10ms/step - loss: 0.0139 - val_loss: 0.0151\n",
      "Epoch 21/100\n",
      "3/3 [==============================] - 0s 7ms/step - loss: 0.0129 - val_loss: 0.0160\n",
      "Epoch 22/100\n",
      "3/3 [==============================] - 0s 7ms/step - loss: 0.0125 - val_loss: 0.0178\n",
      "Epoch 23/100\n",
      "3/3 [==============================] - 0s 7ms/step - loss: 0.0125 - val_loss: 0.0164\n",
      "Epoch 24/100\n",
      "3/3 [==============================] - 0s 8ms/step - loss: 0.0119 - val_loss: 0.0153\n",
      "Epoch 25/100\n",
      "3/3 [==============================] - 0s 11ms/step - loss: 0.0119 - val_loss: 0.0149\n",
      "Epoch 26/100\n",
      "3/3 [==============================] - 0s 10ms/step - loss: 0.0118 - val_loss: 0.0147\n",
      "Epoch 27/100\n",
      "3/3 [==============================] - 0s 10ms/step - loss: 0.0120 - val_loss: 0.0145\n",
      "Epoch 28/100\n",
      "3/3 [==============================] - 0s 8ms/step - loss: 0.0122 - val_loss: 0.0147\n",
      "Epoch 29/100\n",
      "3/3 [==============================] - 0s 8ms/step - loss: 0.0115 - val_loss: 0.0153\n",
      "Epoch 30/100\n",
      "3/3 [==============================] - 0s 8ms/step - loss: 0.0114 - val_loss: 0.0149\n",
      "Epoch 31/100\n",
      "3/3 [==============================] - 0s 10ms/step - loss: 0.0112 - val_loss: 0.0145\n",
      "Epoch 32/100\n",
      "3/3 [==============================] - 0s 10ms/step - loss: 0.0113 - val_loss: 0.0144\n",
      "Epoch 33/100\n",
      "3/3 [==============================] - 0s 8ms/step - loss: 0.0111 - val_loss: 0.0146\n",
      "Epoch 34/100\n",
      "3/3 [==============================] - 0s 8ms/step - loss: 0.0110 - val_loss: 0.0149\n",
      "Epoch 35/100\n",
      "3/3 [==============================] - 0s 8ms/step - loss: 0.0110 - val_loss: 0.0161\n",
      "Epoch 36/100\n",
      "3/3 [==============================] - 0s 8ms/step - loss: 0.0112 - val_loss: 0.0157\n",
      "Epoch 37/100\n",
      "3/3 [==============================] - 0s 11ms/step - loss: 0.0108 - val_loss: 0.0139\n",
      "Epoch 38/100\n",
      "3/3 [==============================] - 0s 11ms/step - loss: 0.0111 - val_loss: 0.0137\n",
      "Epoch 39/100\n",
      "3/3 [==============================] - 0s 11ms/step - loss: 0.0116 - val_loss: 0.0135\n",
      "Epoch 40/100\n",
      "3/3 [==============================] - 0s 8ms/step - loss: 0.0110 - val_loss: 0.0140\n",
      "Epoch 41/100\n",
      "3/3 [==============================] - 0s 8ms/step - loss: 0.0103 - val_loss: 0.0158\n",
      "Epoch 42/100\n",
      "3/3 [==============================] - 0s 8ms/step - loss: 0.0107 - val_loss: 0.0153\n",
      "Epoch 43/100\n",
      "3/3 [==============================] - 0s 8ms/step - loss: 0.0103 - val_loss: 0.0136\n",
      "Epoch 44/100\n",
      "3/3 [==============================] - 0s 10ms/step - loss: 0.0101 - val_loss: 0.0134\n",
      "Epoch 45/100\n",
      "3/3 [==============================] - 0s 11ms/step - loss: 0.0101 - val_loss: 0.0132\n",
      "Epoch 46/100\n",
      "3/3 [==============================] - 0s 8ms/step - loss: 0.0100 - val_loss: 0.0138\n",
      "Epoch 47/100\n",
      "3/3 [==============================] - 0s 8ms/step - loss: 0.0099 - val_loss: 0.0155\n",
      "Epoch 48/100\n",
      "3/3 [==============================] - 0s 8ms/step - loss: 0.0103 - val_loss: 0.0148\n",
      "Epoch 49/100\n",
      "3/3 [==============================] - 0s 10ms/step - loss: 0.0097 - val_loss: 0.0129\n",
      "Epoch 50/100\n",
      "3/3 [==============================] - 0s 11ms/step - loss: 0.0097 - val_loss: 0.0127\n",
      "Epoch 51/100\n",
      "3/3 [==============================] - 0s 10ms/step - loss: 0.0099 - val_loss: 0.0127\n",
      "Epoch 52/100\n",
      "3/3 [==============================] - 0s 11ms/step - loss: 0.0106 - val_loss: 0.0127\n",
      "Epoch 53/100\n",
      "3/3 [==============================] - 0s 9ms/step - loss: 0.0101 - val_loss: 0.0136\n",
      "Epoch 54/100\n",
      "3/3 [==============================] - 0s 8ms/step - loss: 0.0094 - val_loss: 0.0160\n",
      "Epoch 55/100\n",
      "3/3 [==============================] - 0s 8ms/step - loss: 0.0100 - val_loss: 0.0139\n",
      "Epoch 56/100\n",
      "3/3 [==============================] - 0s 10ms/step - loss: 0.0092 - val_loss: 0.0124\n",
      "Epoch 57/100\n",
      "3/3 [==============================] - 0s 11ms/step - loss: 0.0090 - val_loss: 0.0124\n",
      "Epoch 58/100\n",
      "3/3 [==============================] - 0s 8ms/step - loss: 0.0089 - val_loss: 0.0131\n",
      "Epoch 59/100\n",
      "3/3 [==============================] - 0s 8ms/step - loss: 0.0090 - val_loss: 0.0146\n",
      "Epoch 60/100\n",
      "3/3 [==============================] - 0s 8ms/step - loss: 0.0092 - val_loss: 0.0135\n",
      "Epoch 61/100\n",
      "3/3 [==============================] - 0s 10ms/step - loss: 0.0088 - val_loss: 0.0120\n",
      "Epoch 62/100\n",
      "3/3 [==============================] - 0s 8ms/step - loss: 0.0087 - val_loss: 0.0120\n",
      "Epoch 63/100\n",
      "3/3 [==============================] - 0s 8ms/step - loss: 0.0086 - val_loss: 0.0141\n",
      "Epoch 64/100\n",
      "3/3 [==============================] - 0s 8ms/step - loss: 0.0089 - val_loss: 0.0160\n",
      "Epoch 65/100\n",
      "3/3 [==============================] - 0s 7ms/step - loss: 0.0101 - val_loss: 0.0145\n",
      "Epoch 66/100\n",
      "3/3 [==============================] - 0s 10ms/step - loss: 0.0088 - val_loss: 0.0115\n",
      "Epoch 67/100\n",
      "3/3 [==============================] - 0s 10ms/step - loss: 0.0084 - val_loss: 0.0114\n",
      "Epoch 68/100\n",
      "3/3 [==============================] - 0s 8ms/step - loss: 0.0081 - val_loss: 0.0127\n",
      "Epoch 69/100\n",
      "3/3 [==============================] - 0s 8ms/step - loss: 0.0081 - val_loss: 0.0143\n",
      "Epoch 70/100\n",
      "3/3 [==============================] - 0s 8ms/step - loss: 0.0083 - val_loss: 0.0117\n",
      "Epoch 71/100\n",
      "3/3 [==============================] - 0s 10ms/step - loss: 0.0077 - val_loss: 0.0108\n",
      "Epoch 72/100\n",
      "3/3 [==============================] - 0s 8ms/step - loss: 0.0081 - val_loss: 0.0110\n",
      "Epoch 73/100\n",
      "3/3 [==============================] - 0s 8ms/step - loss: 0.0076 - val_loss: 0.0134\n",
      "Epoch 74/100\n",
      "3/3 [==============================] - 0s 7ms/step - loss: 0.0086 - val_loss: 0.0137\n",
      "Epoch 75/100\n",
      "3/3 [==============================] - 0s 11ms/step - loss: 0.0077 - val_loss: 0.0103\n",
      "Epoch 76/100\n",
      "3/3 [==============================] - 0s 11ms/step - loss: 0.0086 - val_loss: 0.0102\n",
      "Epoch 77/100\n",
      "3/3 [==============================] - 0s 7ms/step - loss: 0.0076 - val_loss: 0.0131\n",
      "Epoch 78/100\n",
      "3/3 [==============================] - 0s 8ms/step - loss: 0.0078 - val_loss: 0.0153\n",
      "Epoch 79/100\n",
      "3/3 [==============================] - 0s 8ms/step - loss: 0.0082 - val_loss: 0.0111\n",
      "Epoch 80/100\n",
      "3/3 [==============================] - 0s 10ms/step - loss: 0.0067 - val_loss: 0.0100\n",
      "Epoch 81/100\n",
      "3/3 [==============================] - 0s 11ms/step - loss: 0.0096 - val_loss: 0.0099\n",
      "Epoch 82/100\n",
      "3/3 [==============================] - 0s 8ms/step - loss: 0.0076 - val_loss: 0.0154\n",
      "Epoch 83/100\n",
      "3/3 [==============================] - 0s 8ms/step - loss: 0.0095 - val_loss: 0.0194\n",
      "Epoch 84/100\n",
      "3/3 [==============================] - 0s 10ms/step - loss: 0.0096 - val_loss: 0.0098\n",
      "Epoch 85/100\n",
      "3/3 [==============================] - 0s 8ms/step - loss: 0.0076 - val_loss: 0.0101\n",
      "Epoch 86/100\n",
      "3/3 [==============================] - 0s 7ms/step - loss: 0.0089 - val_loss: 0.0114\n",
      "Epoch 87/100\n",
      "3/3 [==============================] - 0s 8ms/step - loss: 0.0072 - val_loss: 0.0165\n",
      "Epoch 88/100\n",
      "3/3 [==============================] - 0s 7ms/step - loss: 0.0082 - val_loss: 0.0102\n",
      "Epoch 89/100\n",
      "3/3 [==============================] - 0s 11ms/step - loss: 0.0066 - val_loss: 0.0091\n",
      "Epoch 90/100\n",
      "3/3 [==============================] - 0s 8ms/step - loss: 0.0067 - val_loss: 0.0111\n",
      "Epoch 91/100\n",
      "3/3 [==============================] - 0s 8ms/step - loss: 0.0064 - val_loss: 0.0156\n",
      "Epoch 92/100\n",
      "3/3 [==============================] - 0s 8ms/step - loss: 0.0088 - val_loss: 0.0134\n",
      "Epoch 93/100\n",
      "3/3 [==============================] - 0s 10ms/step - loss: 0.0068 - val_loss: 0.0091\n",
      "Epoch 94/100\n",
      "3/3 [==============================] - 0s 8ms/step - loss: 0.0086 - val_loss: 0.0093\n",
      "Epoch 95/100\n",
      "3/3 [==============================] - 0s 8ms/step - loss: 0.0077 - val_loss: 0.0102\n",
      "Epoch 96/100\n",
      "3/3 [==============================] - 0s 8ms/step - loss: 0.0068 - val_loss: 0.0146\n",
      "Epoch 97/100\n",
      "3/3 [==============================] - 0s 8ms/step - loss: 0.0079 - val_loss: 0.0107\n",
      "Epoch 98/100\n",
      "3/3 [==============================] - 0s 11ms/step - loss: 0.0064 - val_loss: 0.0087\n",
      "Epoch 99/100\n",
      "3/3 [==============================] - 0s 8ms/step - loss: 0.0066 - val_loss: 0.0088\n",
      "Epoch 100/100\n",
      "3/3 [==============================] - 0s 8ms/step - loss: 0.0061 - val_loss: 0.0098\n"
     ]
    }
   ],
   "source": [
    "# Train The Model \n",
    "history = model.fit(X_train, y_train, batch_size=64, epochs=100, validation_data=(X_test, y_test), callbacks=[early_stopping, checkpoint])"
   ]
  },
  {
   "cell_type": "code",
   "execution_count": 13,
   "id": "7bf9db7b-13f6-4cf9-9f67-37bc4c0c1d4b",
   "metadata": {
    "tags": []
   },
   "outputs": [
    {
     "name": "stdout",
     "output_type": "stream",
     "text": [
      "2/2 [==============================] - 0s 2ms/step\n",
      "Mean Squared Error: 0.0943564943423256\n"
     ]
    }
   ],
   "source": [
    "# Evaluate the Model\n",
    "predictions = model.predict(X_test)\n",
    "mse = np.mean((predictions - y_test)**2)\n",
    "print(f\"Mean Squared Error: {mse}\")"
   ]
  },
  {
   "cell_type": "code",
   "execution_count": 14,
   "id": "67b67f58-2eae-45cc-a59f-c800df5ad468",
   "metadata": {
    "tags": []
   },
   "outputs": [
    {
     "name": "stdout",
     "output_type": "stream",
     "text": [
      "1/1 [==============================] - 0s 11ms/step\n"
     ]
    },
    {
     "data": {
      "image/png": "[encoded data removed]",
      "text/plain": [
       "<Figure size 640x480 with 1 Axes>"
      ]
     },
     "metadata": {},
     "output_type": "display_data"
    }
   ],
   "source": [
    "# Load the best model (optional) \n",
    "model.load_weights(\"best_model.h5\")\n",
    "\n",
    "# Make Predictions\n",
    "last_sequence = X[-1]\n",
    "prediction = model.predict(np.array([last_sequence]))[0][0]\n",
    "\n",
    "# Visualize Results\n",
    "actual_prices = df['Normalised Average Price'].values\n",
    "plt.plot(actual_prices[-len(predictions):], label='Actual Normalised Prices')\n",
    "plt.plot(predictions, label='Predicted Normalised Prices')\n",
    "plt.legend()\n",
    "plt.show()"
   ]
  },
  {
   "cell_type": "code",
   "execution_count": null,
   "id": "a2f85b9a-3459-4d35-a24d-700c2cc31343",
   "metadata": {},
   "outputs": [],
   "source": []
  }
 ],
 "metadata": {
  "kernelspec": {
   "display_name": "Python 3 (ipykernel)",
   "language": "python",
   "name": "python3"
  },
  "language_info": {
   "codemirror_mode": {
    "name": "ipython",
    "version": 3
   },
   "file_extension": ".py",
   "mimetype": "text/x-python",
   "name": "python",
   "nbconvert_exporter": "python",
   "pygments_lexer": "ipython3",
   "version": "3.11.5"
  }
 },
 "nbformat": 4,
 "nbformat_minor": 5
}
